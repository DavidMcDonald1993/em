{
 "cells": [
  {
   "cell_type": "code",
   "execution_count": 1,
   "metadata": {
    "collapsed": true
   },
   "outputs": [],
   "source": [
    "import urllib\n",
    "import requests\n",
    "import webbrowser\n",
    "from selenium import webdriver\n",
    "from selenium.webdriver.common.keys import Keys\n",
    "from selenium.webdriver.common.by import By\n",
    "from selenium.webdriver.support.ui import WebDriverWait\n",
    "from selenium.webdriver.support import expected_conditions as EC\n",
    "from time import sleep\n",
    "from itertools import permutations\n",
    "from xlrd import open_workbook\n",
    "import xlwt\n",
    "import re"
   ]
  },
  {
   "cell_type": "code",
   "execution_count": null,
   "metadata": {
    "collapsed": true
   },
   "outputs": [],
   "source": [
    "##load data from txt files\n",
    "websites, products = load_from_txt_files()\n",
    "\n",
    "#disable notifications\n",
    "# chrome_options = webdriver.ChromeOptions()\n",
    "# prefs = {'profile.default_content_setting_values.notifications' : 2}\n",
    "# chrome_options.add_experimental_option('prefs',prefs)\n",
    "\n",
    "# #initialise Chrome browser\n",
    "# browser = webdriver.Chrome(chrome_options=chrome_options)\n",
    "\n",
    "# binary = FirefoxBinary('C:\\Program Files (x86)\\Mozilla Firefox\\Firefox.exe')\n",
    "\n",
    "d = initialise_dictionary()\n",
    "\n",
    "fp = webdriver.FirefoxProfile()\n",
    "fp.set_preference(\"privacy.popups.disable_from_plugins\", 3)\n",
    "fp.set_preference(\"dom.push.enabled\", False)\n",
    "fp.set_preference(\"dom.webnotifications.enabled\", False)\n",
    "\n",
    "browser = webdriver.Firefox(fp)\n",
    "browser.maximize_window()\n",
    "\n",
    "wait = WebDriverWait(browser, 10)\n",
    "\n",
    "browser.get(' https://www.centralpoint.nl/zoeken/pa03643-b011+/')\n",
    "\n",
    "links = wait.until(EC.presence_of_all_elements_located(By.XPATH('//a')))\n",
    "                   \n",
    "print str(len(links))\n",
    "                   \n",
    "browser.quit()"
   ]
  }
 ],
 "metadata": {
  "anaconda-cloud": {},
  "kernelspec": {
   "display_name": "Python [conda env:py27]",
   "language": "python",
   "name": "conda-env-py27-py"
  },
  "language_info": {
   "codemirror_mode": {
    "name": "ipython",
    "version": 2
   },
   "file_extension": ".py",
   "mimetype": "text/x-python",
   "name": "python",
   "nbconvert_exporter": "python",
   "pygments_lexer": "ipython2",
   "version": "2.7.9"
  }
 },
 "nbformat": 4,
 "nbformat_minor": 1
}
