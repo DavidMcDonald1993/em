{
 "cells": [
  {
   "cell_type": "code",
   "execution_count": 1,
   "metadata": {
    "collapsed": true
   },
   "outputs": [],
   "source": [
    "import urllib\n",
    "import requests\n",
    "import webbrowser\n",
    "from selenium import webdriver\n",
    "from selenium.webdriver.common.keys import Keys\n",
    "from selenium.webdriver.common.by import By\n",
    "from selenium.webdriver.support.ui import WebDriverWait\n",
    "from selenium.webdriver.support import expected_conditions as EC\n",
    "from time import sleep\n",
    "from itertools import permutations\n",
    "from xlrd import open_workbook\n",
    "import xlwt\n",
    "import re"
   ]
  },
  {
   "cell_type": "code",
   "execution_count": 18,
   "metadata": {
    "collapsed": false
   },
   "outputs": [
    {
     "name": "stdout",
     "output_type": "stream",
     "text": [
      "15\n",
      "https://www.centralpoint.nl/notebooks-laptops/?reset=1&facet_16263=Hybrid+%282-in-1%29\n",
      "https://www.centralpoint.nl/nieuws/hoge-korting-plus-gratis-happy-socks-t-w-v-49-95-bij-ricoh-printers-21761/\n",
      "https://www.centralpoint.nl/nieuws/hoge-korting-plus-gratis-happy-socks-t-w-v-49-95-bij-ricoh-printers-21761/\n",
      "https://www.centralpoint.nl/nieuws/hoge-korting-plus-gratis-happy-socks-t-w-v-49-95-bij-ricoh-printers-21761/\n",
      "https://www.centralpoint.nl/relatiegeschenken/\n",
      "https://www.centralpoint.nl/relatiegeschenken/\n",
      "https://www.centralpoint.nl/relatiegeschenken/\n",
      "https://www.centralpoint.nl/hp/\n",
      "https://www.centralpoint.nl/microsoft/\n",
      "https://www.centralpoint.nl/cisco/\n",
      "https://www.centralpoint.nl/samsung/\n",
      "https://www.centralpoint.nl/apple/\n",
      "https://www.centralpoint.nl/dell/\n",
      "https://www.centralpoint.nl/asus/\n",
      "https://www.centralpoint.nl/lenovo/\n"
     ]
    }
   ],
   "source": [
    "##load data from txt files\n",
    "# websites, products = load_from_txt_files()\n",
    "\n",
    "#disable notifications\n",
    "# chrome_options = webdriver.ChromeOptions()\n",
    "# prefs = {'profile.default_content_setting_values.notifications' : 2}\n",
    "# chrome_options.add_experimental_option('prefs',prefs)\n",
    "\n",
    "# #initialise Chrome browser\n",
    "# browser = webdriver.Chrome(chrome_options=chrome_options)\n",
    "\n",
    "# binary = FirefoxBinary('C:\\Program Files (x86)\\Mozilla Firefox\\Firefox.exe')\n",
    "\n",
    "# d = initialise_dictionary()\n",
    "\n",
    "fp = webdriver.FirefoxProfile()\n",
    "fp.set_preference(\"privacy.popups.disable_from_plugins\", 3)\n",
    "fp.set_preference(\"dom.push.enabled\", False)\n",
    "fp.set_preference(\"dom.webnotifications.enabled\", False)\n",
    "\n",
    "browser = webdriver.Firefox(fp)\n",
    "browser.maximize_window()\n",
    "\n",
    "wait = WebDriverWait(browser, 10)\n",
    "\n",
    "url = 'https://www.centralpoint.nl'\n",
    "\n",
    "browser.get(url)\n",
    "\n",
    "links = []\n",
    "\n",
    "try:\n",
    "    links = wait.until(EC.presence_of_all_elements_located((By.XPATH, \"//a[contains(@href, \\'\" + url + \"\\')]\")))\n",
    "#     links = wait.until(EC.presence_of_all_elements_located((By.TAG_NAME, \"a\")))\n",
    "except Exception:\n",
    "    print 'exception -- no links'\n",
    "\n",
    "print str(len(links))\n",
    "\n",
    "for link in links:\n",
    "    print link.get_attribute('href')\n",
    "                   \n",
    "browser.quit()"
   ]
  }
 ],
 "metadata": {
  "anaconda-cloud": {},
  "kernelspec": {
   "display_name": "Python [conda env:py27]",
   "language": "python",
   "name": "conda-env-py27-py"
  },
  "language_info": {
   "codemirror_mode": {
    "name": "ipython",
    "version": 2
   },
   "file_extension": ".py",
   "mimetype": "text/x-python",
   "name": "python",
   "nbconvert_exporter": "python",
   "pygments_lexer": "ipython2",
   "version": "2.7.9"
  }
 },
 "nbformat": 4,
 "nbformat_minor": 1
}
